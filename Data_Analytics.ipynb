{
  "nbformat": 4,
  "nbformat_minor": 0,
  "metadata": {
    "colab": {
      "provenance": [],
      "authorship_tag": "ABX9TyMPNRt+Lfxj+3cuWeOQlEDG",
      "include_colab_link": true
    },
    "kernelspec": {
      "name": "python3",
      "display_name": "Python 3"
    },
    "language_info": {
      "name": "python"
    }
  },
  "cells": [
    {
      "cell_type": "markdown",
      "metadata": {
        "id": "view-in-github",
        "colab_type": "text"
      },
      "source": [
        "<a href=\"https://colab.research.google.com/github/Saksham9804/Projects/blob/main/Data_Analytics.ipynb\" target=\"_parent\"><img src=\"https://colab.research.google.com/assets/colab-badge.svg\" alt=\"Open In Colab\"/></a>"
      ]
    },
    {
      "cell_type": "markdown",
      "source": [
        "***SETUP***"
      ],
      "metadata": {
        "id": "Hlc4VFaOAjhx"
      }
    },
    {
      "cell_type": "markdown",
      "source": [
        "Installing required library for PDF generation\n"
      ],
      "metadata": {
        "id": "Tbjfyb1dAnQH"
      }
    },
    {
      "cell_type": "code",
      "source": [
        "!pip install reportlab"
      ],
      "metadata": {
        "id": "0jUlRfMjAotG",
        "colab": {
          "base_uri": "https://localhost:8080/"
        },
        "outputId": "9af4fb55-980e-4d6a-d456-b3e6cd3812c5"
      },
      "execution_count": null,
      "outputs": [
        {
          "output_type": "stream",
          "name": "stdout",
          "text": [
            "Requirement already satisfied: reportlab in /usr/local/lib/python3.11/dist-packages (4.4.3)\n",
            "Requirement already satisfied: pillow>=9.0.0 in /usr/local/lib/python3.11/dist-packages (from reportlab) (11.3.0)\n",
            "Requirement already satisfied: charset-normalizer in /usr/local/lib/python3.11/dist-packages (from reportlab) (3.4.3)\n"
          ]
        }
      ]
    },
    {
      "cell_type": "markdown",
      "source": [
        "Importing necessary libraries"
      ],
      "metadata": {
        "id": "YCnHHo9vAu2H"
      }
    },
    {
      "cell_type": "code",
      "source": [
        "import pandas as pd\n",
        "import numpy as np\n",
        "import matplotlib.pyplot as plt\n",
        "import seaborn as sns\n",
        "import datetime\n",
        "import kagglehub\n",
        "from kagglehub import KaggleDatasetAdapter\n",
        "from reportlab.lib.pagesizes import letter\n",
        "from reportlab.pdfgen import canvas\n",
        "\n",
        "# Machine learning related imports\n",
        "from sklearn.model_selection import train_test_split\n",
        "from sklearn.linear_model import LinearRegression\n",
        "from sklearn.metrics import mean_squared_error, r2_score, classification_report, accuracy_score\n",
        "from sklearn.preprocessing import LabelEncoder\n",
        "from sklearn.ensemble import RandomForestClassifier\n"
      ],
      "metadata": {
        "id": "Sa9Oc26yAyRP"
      },
      "execution_count": null,
      "outputs": []
    },
    {
      "cell_type": "markdown",
      "source": [
        "Loading the dataset"
      ],
      "metadata": {
        "id": "ViEkM6QyJOwE"
      }
    },
    {
      "cell_type": "code",
      "source": [
        "# Downloading latest version\n",
        "path = kagglehub.dataset_download(\"sakshamtiwari98/market-analysis\")\n",
        "\n",
        "print(\"Path to dataset files:\", path)\n",
        "\n",
        "df = pd.read_csv('/kaggle/input/market-analysis/Dataset.csv')\n",
        "print(df.head())"
      ],
      "metadata": {
        "id": "drKC6YqSJP7G",
        "colab": {
          "base_uri": "https://localhost:8080/"
        },
        "outputId": "7517dae4-3428-42e7-b1f1-666497747a86"
      },
      "execution_count": null,
      "outputs": [
        {
          "output_type": "stream",
          "name": "stdout",
          "text": [
            "Path to dataset files: /kaggle/input/market-analysis\n",
            "       Sort   Invoice ID Branch       City Customer type  Gender  \\\n",
            "0  0.721157  811-35-1094    NaN   Mandalay        Member    Male   \n",
            "1  0.150600  546-80-2899      A     Yangon        Member    Male   \n",
            "2  0.946204  449-27-2918      B   Mandalay        Member  Female   \n",
            "3  0.423019  503-07-0930      C  Naypyitaw        Member    Male   \n",
            "4  0.430853  592-46-1692      C  Naypyitaw        Member  Female   \n",
            "\n",
            "             Product line  Unit price Quantity   Tax 5%     Total        Date  \\\n",
            "0  Electronic accessories       50.45      Six  15.1350  317.8350  02-06-2019   \n",
            "1      Home and lifestyle       37.69        2   3.7690   79.1490   2/20/2019   \n",
            "2       Sports and travel         NaN        1   1.9560   41.0760   3/26/2019   \n",
            "3       Sports and travel       58.39        7  20.4365  429.1665   2/23/2019   \n",
            "4      Food and beverages       36.77        7  12.8695  270.2595  01-11-2019   \n",
            "\n",
            "    Time      Payment    cogs  gross margin percentage  gross income  Rating  \n",
            "0  15:16  Credit card  302.70                 4.761905       15.1350     8.9  \n",
            "1  15:29          NaN   75.38                 4.761905        3.7690     9.5  \n",
            "2  11:02  Credit card   39.12                 4.761905        1.9560     9.6  \n",
            "3  19:49  Credit card  408.73                 4.761905       20.4365     8.2  \n",
            "4  20:10         Cash  257.39                 4.761905       12.8695     7.4  \n"
          ]
        }
      ]
    },
    {
      "cell_type": "markdown",
      "source": [
        "***Data Cleaning and Processing***"
      ],
      "metadata": {
        "id": "JEXgJKOxJYaB"
      }
    },
    {
      "cell_type": "markdown",
      "source": [
        "Dictionary to convert number words to numeric values"
      ],
      "metadata": {
        "id": "QuBcsWajJdBz"
      }
    },
    {
      "cell_type": "code",
      "source": [
        "number_words = {\n",
        "    'zero': 0, 'one': 1, 'two': 2, 'three': 3, 'four': 4,\n",
        "    'five': 5, 'six': 6, 'seven': 7, 'eight': 8, 'nine': 9,\n",
        "    'ten': 10, 'eleven': 11, 'twelve': 12\n",
        "}"
      ],
      "metadata": {
        "id": "KtW6upBlJeEl"
      },
      "execution_count": null,
      "outputs": []
    },
    {
      "cell_type": "markdown",
      "source": [
        "Making the function to handle word-to-number conversion"
      ],
      "metadata": {
        "id": "Rt2VMHFuJlzQ"
      }
    },
    {
      "cell_type": "code",
      "source": [
        "def word_to_num(x):\n",
        "    if isinstance(x, str):\n",
        "        return number_words.get(x.lower(), x)\n",
        "    return x"
      ],
      "metadata": {
        "id": "vea8Jhz6JsSO"
      },
      "execution_count": null,
      "outputs": []
    },
    {
      "cell_type": "markdown",
      "source": [
        " Converting the 'Date'and 'Time'  column to datetime format"
      ],
      "metadata": {
        "id": "LpGGh_QtJxUR"
      }
    },
    {
      "cell_type": "code",
      "source": [
        "df['Date'] = pd.to_datetime(df['Date'], errors='coerce')\n",
        "\n",
        "df['Time'] = pd.to_datetime(df['Time'], format='%H:%M', errors='coerce').dt.time"
      ],
      "metadata": {
        "id": "PFu0Yg74J-yk"
      },
      "execution_count": null,
      "outputs": []
    },
    {
      "cell_type": "markdown",
      "source": [
        "Converting the numeric columns (handling both words and numbers)"
      ],
      "metadata": {
        "id": "mDF3DyZJKJH8"
      }
    },
    {
      "cell_type": "code",
      "source": [
        "for col in ['Quantity', 'Unit price', 'Rating']:\n",
        "    df[col] = pd.to_numeric(df[col].apply(word_to_num), errors='coerce')"
      ],
      "metadata": {
        "id": "VcMJd1YCKVAn"
      },
      "execution_count": null,
      "outputs": []
    },
    {
      "cell_type": "markdown",
      "source": [
        "Now I'm droping the rows where essential fields are missing"
      ],
      "metadata": {
        "id": "uV8KQpF2KieM"
      }
    },
    {
      "cell_type": "code",
      "source": [
        "df.dropna(subset=['Date', 'Time', 'Quantity', 'Unit price', 'Rating'], inplace=True)"
      ],
      "metadata": {
        "id": "yGo1Aqj0Kabt"
      },
      "execution_count": null,
      "outputs": []
    },
    {
      "cell_type": "markdown",
      "source": [
        "Also creating additional derived feature: Day of the Week"
      ],
      "metadata": {
        "id": "gbPLQe2JKqy0"
      }
    },
    {
      "cell_type": "code",
      "source": [
        "df['DayOfWeek'] = df['Date'].dt.day_name()\n",
        "df['Hour'] = df['Time'].apply(lambda x: x.hour)"
      ],
      "metadata": {
        "id": "C9BBLeHaKhRI"
      },
      "execution_count": null,
      "outputs": []
    },
    {
      "cell_type": "markdown",
      "source": [
        "Making the Function to derive \"Time of Day\" category from time"
      ],
      "metadata": {
        "id": "mCYGV_PCK3aY"
      }
    },
    {
      "cell_type": "code",
      "source": [
        "def get_time_of_day(t):\n",
        "    if pd.isnull(t):\n",
        "        return 'Unknown'\n",
        "    t = datetime.datetime.strptime(str(t), \"%H:%M:%S\").time()\n",
        "    if datetime.time(5, 0) <= t < datetime.time(12, 0):\n",
        "        return 'Morning'\n",
        "    elif datetime.time(12, 0) <= t < datetime.time(17, 0):\n",
        "        return 'Afternoon'\n",
        "    elif datetime.time(17, 0) <= t < datetime.time(21, 0):\n",
        "        return 'Evening'\n",
        "    else:\n",
        "        return 'Night'"
      ],
      "metadata": {
        "id": "VWLB6wiyK7Zk"
      },
      "execution_count": null,
      "outputs": []
    },
    {
      "cell_type": "markdown",
      "source": [
        "Applying time-of-day categorization and standardizing customer format"
      ],
      "metadata": {
        "id": "K9qPShguLF_6"
      }
    },
    {
      "cell_type": "code",
      "source": [
        "df['TimeOfDay'] = df['Time'].apply(get_time_of_day)\n",
        "\n",
        "df['Customer type'] = df['Customer type'].str.strip().str.title()"
      ],
      "metadata": {
        "id": "pVKG-8xwLQ0-"
      },
      "execution_count": null,
      "outputs": []
    },
    {
      "cell_type": "markdown",
      "source": [
        "***PREVIEWING DATA***"
      ],
      "metadata": {
        "id": "0_GAHwjALVJe"
      }
    },
    {
      "cell_type": "code",
      "source": [
        "pd.set_option('display.max_columns', None)\n",
        "file_path = '/content/Dataset.csv'\n",
        "df = pd.read_csv(file_path)\n",
        "\n",
        "# Inspect first few rows and dataset info\n",
        "print(\"\\nDataset Head:\")\n",
        "print(df.head())\n",
        "df.info()\n",
        "print(\"\\nSummary Statistics:\")\n",
        "print(df.describe())"
      ],
      "metadata": {
        "id": "TmU6qew6Leb9"
      },
      "execution_count": null,
      "outputs": []
    },
    {
      "cell_type": "markdown",
      "source": [
        "***EXPLORATORY DATA ANALYSIS (EDA)***"
      ],
      "metadata": {
        "id": "QveTQV7POaoZ"
      }
    },
    {
      "cell_type": "code",
      "source": [
        "sns.set(style=\"whitegrid\")"
      ],
      "metadata": {
        "id": "M0kBlQ6rOgMM"
      },
      "execution_count": null,
      "outputs": []
    },
    {
      "cell_type": "markdown",
      "source": [
        "a. Getting Revenue by branch"
      ],
      "metadata": {
        "id": "0VbB53HoOj-W"
      }
    },
    {
      "cell_type": "code",
      "source": [
        "branch_revenue = df.groupby('Branch')['Total'].sum().sort_values(ascending=False)\n",
        "print(\"\\nTotal Revenue by Branch:\\n\", branch_revenue)\n",
        "branch_revenue.plot(kind='bar', title='Total Revenue by Branch')\n",
        "plt.show()"
      ],
      "metadata": {
        "id": "V4TjlsuWOqO0"
      },
      "execution_count": null,
      "outputs": []
    },
    {
      "cell_type": "markdown",
      "source": [
        "b. Sales by product line"
      ],
      "metadata": {
        "id": "GeWseF5EOtc_"
      }
    },
    {
      "cell_type": "code",
      "source": [
        "product_sales = df.groupby('Product line')['Total'].sum().sort_values(ascending=False)\n",
        "print(\"\\nTotal Sales by Product Line:\\n\", product_sales)\n",
        "sns.barplot(x=product_sales.values, y=product_sales.index)\n",
        "plt.title('Sales by Product Line')\n",
        "plt.show()"
      ],
      "metadata": {
        "id": "RJSGQvJCOvcg"
      },
      "execution_count": null,
      "outputs": []
    },
    {
      "cell_type": "markdown",
      "source": [
        "c. Taking Average transaction per city"
      ],
      "metadata": {
        "id": "2NUUWYcRO1Km"
      }
    },
    {
      "cell_type": "code",
      "source": [
        "print(\"\\nAverage Transaction Value per City:\")\n",
        "print(df.groupby('City')['Total'].mean())\n"
      ],
      "metadata": {
        "id": "lNLnLFV2O4gw"
      },
      "execution_count": null,
      "outputs": []
    },
    {
      "cell_type": "markdown",
      "source": [
        "d. Total Spend by Customer Type"
      ],
      "metadata": {
        "id": "pX9RlfsDO7Zv"
      }
    },
    {
      "cell_type": "code",
      "source": [
        "print(\"\\nAverage Spend by Customer Type:\")\n",
        "print(df.groupby('Customer type')['Total'].mean())"
      ],
      "metadata": {
        "id": "J_8xFLXwO60h"
      },
      "execution_count": null,
      "outputs": []
    },
    {
      "cell_type": "markdown",
      "source": [
        "e. Spendings according to the Gender"
      ],
      "metadata": {
        "id": "RKoQVnl9PD6l"
      }
    },
    {
      "cell_type": "code",
      "source": [
        "sns.boxplot(x='Gender', y='Total', data=df)\n",
        "plt.title('Spend by Gender')\n",
        "plt.show()"
      ],
      "metadata": {
        "id": "AEtxlWEbPQf1"
      },
      "execution_count": null,
      "outputs": []
    },
    {
      "cell_type": "markdown",
      "source": [
        "f. Preferred Payment Method"
      ],
      "metadata": {
        "id": "QwbFGJX_PTV1"
      }
    },
    {
      "cell_type": "code",
      "source": [
        "print(\"\\nPreferred Payment Methods:\")\n",
        "print(df['Payment'].value_counts())\n",
        "sns.countplot(data=df, x='Payment')\n",
        "plt.title('Preferred Payment Methods')\n",
        "plt.show()"
      ],
      "metadata": {
        "id": "ebpYK2LNPW_g"
      },
      "execution_count": null,
      "outputs": []
    },
    {
      "cell_type": "markdown",
      "source": [
        "g. Customer type distribution by city"
      ],
      "metadata": {
        "id": "FD7ivlGVParS"
      }
    },
    {
      "cell_type": "code",
      "source": [
        "sns.countplot(data=df, x='City', hue='Customer type')\n",
        "plt.title('Customer Type by City')\n",
        "plt.show()"
      ],
      "metadata": {
        "id": "OCFXNVujPbaz"
      },
      "execution_count": null,
      "outputs": []
    },
    {
      "cell_type": "markdown",
      "source": [
        "h. Peak shopping hours"
      ],
      "metadata": {
        "id": "Bfvbr83RPhHO"
      }
    },
    {
      "cell_type": "code",
      "source": [
        "df['Date'] = pd.to_datetime(df['Date'], errors='coerce')\n",
        "df['Time'] = pd.to_datetime(df['Time'], format='%H:%M', errors='coerce').dt.time\n",
        "\n",
        "\n",
        "sns.histplot(df['Time'].apply(lambda x: x.hour), bins=24)\n",
        "plt.title('Transactions by Hour')\n",
        "plt.xlabel('Hour')\n",
        "plt.show()"
      ],
      "metadata": {
        "id": "cMvKPvE7PkGd"
      },
      "execution_count": null,
      "outputs": []
    },
    {
      "cell_type": "markdown",
      "source": [
        "i. Highest average rating by product line"
      ],
      "metadata": {
        "id": "trlOi1-BPnl3"
      }
    },
    {
      "cell_type": "code",
      "source": [
        "print(\"\\nAverage Rating by Product Line:\")\n",
        "print(df.groupby('Product line')['Rating'].mean().sort_values(ascending=False))"
      ],
      "metadata": {
        "id": "zNA7BSPNPqmJ"
      },
      "execution_count": null,
      "outputs": []
    },
    {
      "cell_type": "markdown",
      "source": [
        "j. Correlation matrix"
      ],
      "metadata": {
        "id": "wMoPSP87Ptli"
      }
    },
    {
      "cell_type": "code",
      "source": [
        "# Re-apply data cleaning for 'Quantity' column\n",
        "df['Quantity'] = df['Quantity'].apply(word_to_num)\n",
        "df['Quantity'] = pd.to_numeric(df['Quantity'], errors='coerce')\n",
        "df.dropna(subset=['Quantity', 'Unit price', 'Rating'], inplace=True) # Drop rows with missing values after conversion\n",
        "\n",
        "sns.heatmap(df[['Unit price', 'Quantity', 'Rating']].corr(), annot=True, cmap='coolwarm')\n",
        "plt.title('Correlation Matrix')\n",
        "plt.show()"
      ],
      "metadata": {
        "id": "mhVpqT2WPvrX"
      },
      "execution_count": null,
      "outputs": []
    },
    {
      "cell_type": "markdown",
      "source": [
        "k. Price vs Rating scatter plot"
      ],
      "metadata": {
        "id": "iuxiuMy3Pyor"
      }
    },
    {
      "cell_type": "code",
      "source": [
        "sns.scatterplot(x='Unit price', y='Rating', data=df)\n",
        "plt.title('Rating vs Unit Price')\n",
        "plt.show()"
      ],
      "metadata": {
        "id": "x3v10LQ4P1cw"
      },
      "execution_count": null,
      "outputs": []
    },
    {
      "cell_type": "markdown",
      "source": [
        "l. Gross income by branch"
      ],
      "metadata": {
        "id": "T27StyLoP37r"
      }
    },
    {
      "cell_type": "code",
      "source": [
        "print(\"\\nGross Income by Branch:\")\n",
        "print(df.groupby('Branch')['gross income'].sum().sort_values(ascending=False))"
      ],
      "metadata": {
        "id": "nLMT0yo1P8jl"
      },
      "execution_count": null,
      "outputs": []
    },
    {
      "cell_type": "markdown",
      "source": [
        "m. Profit per unit calculation"
      ],
      "metadata": {
        "id": "GwZVsU6aP_09"
      }
    },
    {
      "cell_type": "code",
      "source": [
        "profit_per_unit = df.groupby('Product line')['gross income'].sum() / df.groupby('Product line')['Quantity'].sum()\n",
        "profit_per_unit = profit_per_unit.sort_values(ascending=False)\n",
        "print(\"\\nProfit per Unit Sold:\")\n",
        "print(profit_per_unit)"
      ],
      "metadata": {
        "id": "B7DZMgFlQC5a"
      },
      "execution_count": null,
      "outputs": []
    },
    {
      "cell_type": "markdown",
      "source": [
        "n. Transactions per hour"
      ],
      "metadata": {
        "id": "lQyO1fZ2QFqM"
      }
    },
    {
      "cell_type": "code",
      "source": [
        "print(\"\\nTransactions Per Hour:\")\n",
        "print(df['Time'].apply(lambda x: x.hour).value_counts().sort_index())"
      ],
      "metadata": {
        "id": "u5XKFZOZQGzh"
      },
      "execution_count": null,
      "outputs": []
    },
    {
      "cell_type": "markdown",
      "source": [
        "***MODELLING***"
      ],
      "metadata": {
        "id": "PryHu_CNQO1w"
      }
    },
    {
      "cell_type": "markdown",
      "source": [
        "Regression task: Predict Rating"
      ],
      "metadata": {
        "id": "Q6_hZYjuQVr-"
      }
    },
    {
      "cell_type": "code",
      "source": [
        "X_reg = df[['Unit price', 'Quantity', 'gross income']]\n",
        "y_reg = df['Rating']\n",
        "X_train, X_test, y_train, y_test = train_test_split(X_reg, y_reg, test_size=0.2, random_state=42)\n",
        "\n",
        "model_reg = LinearRegression()\n",
        "model_reg.fit(X_train, y_train)\n",
        "y_pred = model_reg.predict(X_test)\n",
        "\n",
        "print(\"\\nRegression Performance:\")\n",
        "print(\"RMSE:\", np.sqrt(mean_squared_error(y_test, y_pred)))\n",
        "print(\"R² Score:\", r2_score(y_test, y_pred))"
      ],
      "metadata": {
        "id": "WJo7HGyUQboI"
      },
      "execution_count": null,
      "outputs": []
    },
    {
      "cell_type": "markdown",
      "source": [
        "Classification: Predicting Customer Type"
      ],
      "metadata": {
        "id": "ulGCfpi0Qfah"
      }
    },
    {
      "cell_type": "code",
      "source": [
        "df['TimeOfDay'] = df['Time'].apply(get_time_of_day)\n",
        "\n",
        "df_model = df.copy()\n",
        "\n",
        "df_model['DayOfWeek'] = df_model['Date'].dt.day_name()"
      ],
      "metadata": {
        "id": "B92XZtlAQhcE"
      },
      "execution_count": null,
      "outputs": []
    },
    {
      "cell_type": "markdown",
      "source": [
        "Maping Customer type to numbers"
      ],
      "metadata": {
        "id": "XSGK1MUbQkj4"
      }
    },
    {
      "cell_type": "code",
      "source": [
        "df_model['Customer type'] = df_model['Customer type'].str.strip().str.title()\n",
        "df_model['Customer type'] = df_model['Customer type'].map({'Member': 1, 'Normal': 0})\n",
        "df_model.dropna(subset=['Customer type'], inplace=True)"
      ],
      "metadata": {
        "id": "wABasgiFQo83"
      },
      "execution_count": null,
      "outputs": []
    },
    {
      "cell_type": "markdown",
      "source": [
        "Encoding categorical variables"
      ],
      "metadata": {
        "id": "ArqsBSl-Qyb8"
      }
    },
    {
      "cell_type": "code",
      "source": [
        "\n",
        "le = LabelEncoder()\n",
        "for col in ['Gender', 'Product line', 'Payment', 'City', 'Branch', 'TimeOfDay', 'DayOfWeek']:\n",
        "    df_model[col] = le.fit_transform(df_model[col])"
      ],
      "metadata": {
        "id": "PWaBrrKqQ3vl"
      },
      "execution_count": null,
      "outputs": []
    },
    {
      "cell_type": "markdown",
      "source": [
        "Selecting features for classification"
      ],
      "metadata": {
        "id": "sVyvVzDFQ6L2"
      }
    },
    {
      "cell_type": "code",
      "source": [
        "X_cls = df_model.drop(['Customer type', 'Invoice ID', 'Date', 'Time', 'Rating'], axis=1)\n",
        "y_cls = df_model['Customer type']\n",
        "X_train_c, X_test_c, y_train_c, y_test_c = train_test_split(X_cls, y_cls, test_size=0.2, random_state=42)"
      ],
      "metadata": {
        "id": "F1zq6YJvRBqj"
      },
      "execution_count": null,
      "outputs": []
    },
    {
      "cell_type": "markdown",
      "source": [
        "Training Random Forest Classifier"
      ],
      "metadata": {
        "id": "l8HW7tdpRGF0"
      }
    },
    {
      "cell_type": "code",
      "source": [
        "clf = RandomForestClassifier(random_state=42)\n",
        "clf.fit(X_train_c, y_train_c)\n",
        "y_pred_c = clf.predict(X_test_c)\n",
        "\n",
        "print(\"\\nClassification Performance:\")\n",
        "print(\"Accuracy:\", accuracy_score(y_test_c, y_pred_c))\n",
        "print(classification_report(y_test_c, y_pred_c))"
      ],
      "metadata": {
        "id": "HpQIr0UXRJOd"
      },
      "execution_count": null,
      "outputs": []
    },
    {
      "cell_type": "markdown",
      "source": [
        "***SUMMARIZED ANSWERS FOR EDA (Part 3)***"
      ],
      "metadata": {
        "id": "WSvgO_9HRYKK"
      }
    },
    {
      "cell_type": "code",
      "source": [
        "# Create the 'Hour' column from the processed 'Time' column\n",
        "df['Hour'] = df['Time'].apply(lambda x: x.hour)\n",
        "\n",
        "answers = [\n",
        "    \"a. The branch with the highest revenue is - \" + df.groupby('Branch')['Total'].sum().idxmax(),\n",
        "    \"b. Most contributing product line is -  \" + df.groupby('Product line')['Total'].sum().idxmax(),\n",
        "    \"c. The city with highest average transaction is - \" + df.groupby('City')['Total'].mean().idxmax(),\n",
        "    \"d. Higher spendings is by - \" + df.groupby('Customer type')['Total'].mean().idxmax(),\n",
        "    \"e. The  highest spending gender is - \" + df.groupby('Gender')['Total'].mean().idxmax(),\n",
        "    \"f. The most used payment method is -  \" + df['Payment'].value_counts().idxmax(),\n",
        "    \"g. The most common type overall is - \" + df.groupby('City')['Customer type'].agg(lambda x: x.mode()[0]).mode()[0],\n",
        "    \"h. The peak hour is - \" + str(df['Hour'].value_counts().idxmax()) + \":00\",\n",
        "    \"i. The highest avg rating line is - \" + df.groupby('Product line')['Rating'].mean().idxmax(),\n",
        "    \"j. The correlation between price & quantity is - \" + df[['Unit price', 'Quantity', 'Rating']].corr().loc['Unit price', 'Quantity'].round(2).astype(str),\n",
        "    \"k. The effect of price on rating is - \" + (\"Higher\" if df[['Unit price', 'Rating']].corr().iloc[0,1] > 0 else \"Lower\"),\n",
        "    \"l. The highest gross income branch is -  \" + df.groupby('Branch')['gross income'].sum().idxmax(),\n",
        "    \"m. The most profitable per unit is -  \" + (df.groupby('Product line')['gross income'].sum() / df.groupby('Product line')['Quantity'].sum()).idxmax(),\n",
        "    \"n. The peak hour again for off-peak/peak - \" + str(df['Hour'].value_counts().idxmax()) + \":00\"\n",
        "]"
      ],
      "metadata": {
        "id": "IhFgPbIARfBJ"
      },
      "execution_count": null,
      "outputs": []
    },
    {
      "cell_type": "markdown",
      "source": [
        "Finally, saving the answers as PDF"
      ],
      "metadata": {
        "id": "XKKZYw8URsGB"
      }
    },
    {
      "cell_type": "code",
      "source": [
        "pdf_path = \"Part 3 Answers.pdf\"\n",
        "c = canvas.Canvas(pdf_path, pagesize=letter)\n",
        "width, height = letter\n",
        "text = c.beginText(40, height - 40)\n",
        "text.setFont(\"Helvetica\", 11)\n",
        "\n",
        "text.textLine(\"PART 3  Answers\")\n",
        "text.textLine(\"-\" * 40)\n",
        "\n",
        "# Writing each answer lines to PDF\n",
        "for ans in answers:\n",
        "    text.textLine(ans)\n",
        "\n",
        "# Saving the PDF file\n",
        "c.drawText(text)\n",
        "c.save()\n",
        "\n",
        "print(\" PDF saved as:\", pdf_path)"
      ],
      "metadata": {
        "id": "zooxKFxeR06S"
      },
      "execution_count": null,
      "outputs": []
    }
  ]
}