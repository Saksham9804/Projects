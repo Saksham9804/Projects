{
  "nbformat": 4,
  "nbformat_minor": 0,
  "metadata": {
    "colab": {
      "provenance": [],
      "include_colab_link": true
    },
    "kernelspec": {
      "name": "python3",
      "display_name": "Python 3"
    },
    "language_info": {
      "name": "python"
    }
  },
  "cells": [
    {
      "cell_type": "markdown",
      "metadata": {
        "id": "view-in-github",
        "colab_type": "text"
      },
      "source": [
        "<a href=\"https://colab.research.google.com/github/Saksham9804/Projects/blob/main/Vehicle_Detection.ipynb\" target=\"_parent\"><img src=\"https://colab.research.google.com/assets/colab-badge.svg\" alt=\"Open In Colab\"/></a>"
      ]
    },
    {
      "cell_type": "markdown",
      "source": [
        "# Importing libraries and Setup"
      ],
      "metadata": {
        "id": "RNuSoJJZCsQY"
      }
    },
    {
      "cell_type": "markdown",
      "source": [
        "Importing the required libraries"
      ],
      "metadata": {
        "id": "38zB4qfjgLKr"
      }
    },
    {
      "cell_type": "code",
      "execution_count": null,
      "metadata": {
        "id": "i3nkJ0YdXPas"
      },
      "outputs": [],
      "source": [
        "import torch, os, shutil, numpy as np, matplotlib.pyplot as plt\n",
        "from torchvision import datasets, models, transforms\n",
        "from torch.utils.data import DataLoader\n",
        "from torch import nn, optim\n",
        "from sklearn.model_selection import train_test_split\n",
        "import kagglehub\n",
        "from PIL import Image"
      ]
    },
    {
      "cell_type": "markdown",
      "source": [
        "Downloading the dataset from Kaggle and setting up my device (GPU if available, otherwise CPU)"
      ],
      "metadata": {
        "id": "RbC7RjFmgI7p"
      }
    },
    {
      "cell_type": "code",
      "source": [
        "path = kagglehub.dataset_download(\"mohamedmaher5/vehicle-classification\")\n",
        "device = torch.device(\"cuda\" if torch.cuda.is_available() else \"cpu\")\n",
        "data_dir = \"/kaggle/input/vehicle-classification/Vehicles\"\n",
        "output_dir = \"/kaggle/working/vehicle-split\""
      ],
      "metadata": {
        "id": "B9ej8zNlXdkF"
      },
      "execution_count": null,
      "outputs": []
    },
    {
      "cell_type": "markdown",
      "source": [
        "#Splitting Data to Train and Test"
      ],
      "metadata": {
        "id": "PjIpvNoZC1Li"
      }
    },
    {
      "cell_type": "markdown",
      "source": [
        "Here splitting the dataset into train, validation, and test, and organizing the directory structure."
      ],
      "metadata": {
        "id": "s-ABcR3pgW1R"
      }
    },
    {
      "cell_type": "code",
      "source": [
        "if os.path.exists(output_dir): shutil.rmtree(output_dir)\n",
        "for split in ['train', 'val', 'test']: os.makedirs(os.path.join(output_dir, split), exist_ok=True)\n",
        "for class_name in filter(lambda x: not x.startswith('.'), os.listdir(data_dir)):\n",
        "    class_dir = os.path.join(data_dir, class_name)\n",
        "    if not os.path.isdir(class_dir): continue\n",
        "    images = [img for img in os.listdir(class_dir) if img.lower().endswith(('.png', '.jpg', '.jpeg'))]\n",
        "    if not images: continue\n",
        "    train_imgs, temp_imgs = train_test_split(images, test_size=0.3, random_state=42)\n",
        "    val_imgs, test_imgs = train_test_split(temp_imgs, test_size=0.5, random_state=42)\n",
        "    for split, imgs in zip(['train', 'val', 'test'], [train_imgs, val_imgs, test_imgs]):\n",
        "        split_dir = os.path.join(output_dir, split, class_name)\n",
        "        os.makedirs(split_dir, exist_ok=True)\n",
        "        for img in imgs: shutil.copy(os.path.join(class_dir, img), os.path.join(split_dir, img))"
      ],
      "metadata": {
        "id": "i3YmuJ30Xh88"
      },
      "execution_count": null,
      "outputs": []
    },
    {
      "cell_type": "markdown",
      "source": [
        "# Nomalization and Prediction Model"
      ],
      "metadata": {
        "id": "ProFA5s0DblJ"
      }
    },
    {
      "cell_type": "markdown",
      "source": [
        "Now, defining the means and standard deviations for normalization (using ImageNet stats) and setting up my transforms and creating datasets and data loaders for each split."
      ],
      "metadata": {
        "id": "1YoNBFr-ggmR"
      }
    },
    {
      "cell_type": "code",
      "source": [
        "mean, std = [0.485, 0.456, 0.406], [0.229, 0.224, 0.225]\n",
        "data_transforms = {\n",
        "    s: transforms.Compose([\n",
        "        transforms.Resize((224,224)),\n",
        "        transforms.RandomHorizontalFlip() if s=='train' else transforms.Lambda(lambda x:x),\n",
        "        transforms.RandomRotation(30) if s=='train' else transforms.Lambda(lambda x:x),\n",
        "        transforms.ToTensor(),\n",
        "        transforms.Normalize(mean, std)\n",
        "    ]) for s in ['train','val','test']\n",
        "}\n",
        "image_datasets = {x: datasets.ImageFolder(os.path.join(output_dir, x), data_transforms[x]) for x in ['train','val','test']}\n",
        "dataloaders = {x: DataLoader(image_datasets[x], batch_size=32, shuffle=(x=='train')) for x in ['train','val','test']}\n",
        "dataset_sizes = {x: len(image_datasets[x]) for x in ['train','val','test']}\n",
        "class_names = image_datasets['train'].classes\n",
        "num_classes = len(class_names)"
      ],
      "metadata": {
        "id": "BmPyxa8yXpJr"
      },
      "execution_count": null,
      "outputs": []
    },
    {
      "cell_type": "markdown",
      "source": [
        "I am initializing a pre-trained ResNet18 model, replacing its final layer to match my number of classes, and preparing to train on my device."
      ],
      "metadata": {
        "id": "3yeOXXgagq82"
      }
    },
    {
      "cell_type": "code",
      "source": [
        "model = models.resnet18(weights=models.ResNet18_Weights.IMAGENET1K_V1)\n",
        "model.fc = nn.Linear(model.fc.in_features, num_classes)\n",
        "model = model.to(device)\n",
        "criterion, optimizer = nn.CrossEntropyLoss(), optim.Adam(model.parameters(), lr=0.001)"
      ],
      "metadata": {
        "id": "BGzBU7ZUXtxL",
        "colab": {
          "base_uri": "https://localhost:8080/"
        },
        "outputId": "cba1d0aa-8d3e-43e3-dd8c-4b895086f0e0"
      },
      "execution_count": null,
      "outputs": [
        {
          "output_type": "stream",
          "name": "stderr",
          "text": [
            "Downloading: \"https://download.pytorch.org/models/resnet18-f37072fd.pth\" to /root/.cache/torch/hub/checkpoints/resnet18-f37072fd.pth\n",
            "100%|██████████| 44.7M/44.7M [00:00<00:00, 139MB/s]\n"
          ]
        }
      ]
    },
    {
      "cell_type": "markdown",
      "source": [
        "# Training and Testing Data"
      ],
      "metadata": {
        "id": "EE2AlGsbDnqy"
      }
    },
    {
      "cell_type": "markdown",
      "source": [
        "Writing a function to train my model and save the best one based on validation accuracy.\n"
      ],
      "metadata": {
        "id": "P-oRozOchRJA"
      }
    },
    {
      "cell_type": "code",
      "source": [
        "def train_model(model, criterion, optimizer, epochs=5):\n",
        "    best_acc = 0.0\n",
        "    for epoch in range(epochs):\n",
        "        print(f\"Epoch {epoch+1}/{epochs}\\n\" + '-'*20)\n",
        "        for phase in ['train', 'val']:\n",
        "            model.train() if phase=='train' else model.eval()\n",
        "            running_loss, running_corrects = 0.0, 0\n",
        "            for inputs, labels in dataloaders[phase]:\n",
        "                inputs, labels = inputs.to(device), labels.to(device)\n",
        "                optimizer.zero_grad()\n",
        "                with torch.set_grad_enabled(phase=='train'):\n",
        "                    outputs = model(inputs)\n",
        "                    loss = criterion(outputs, labels)\n",
        "                    _, preds = torch.max(outputs, 1)\n",
        "                    if phase=='train':\n",
        "                        loss.backward()\n",
        "                        torch.nn.utils.clip_grad_norm_(model.parameters(), 1.0)\n",
        "                        optimizer.step()\n",
        "                running_loss += loss.item() * inputs.size(0)\n",
        "                running_corrects += torch.sum(preds == labels.data)\n",
        "            epoch_loss = running_loss / dataset_sizes[phase]\n",
        "            epoch_acc = running_corrects.double() / dataset_sizes[phase]\n",
        "            print(f\"{phase} Loss: {epoch_loss:.4f} Acc: {epoch_acc:.4f}\")\n",
        "            if phase=='val' and epoch_acc > best_acc:\n",
        "                best_acc = epoch_acc\n",
        "                torch.save(model.state_dict(), 'best_model.pth')\n",
        "    print(f\"Best validation accuracy: {best_acc:.4f}\")\n",
        "\n",
        "train_model(model, criterion, optimizer, epochs=5)\n",
        "model.load_state_dict(torch.load('best_model.pth'))\n",
        "model.eval()"
      ],
      "metadata": {
        "colab": {
          "base_uri": "https://localhost:8080/"
        },
        "id": "i324959kXw_l",
        "outputId": "b38937b1-1a7e-4c36-d0b5-fb727f1f386a"
      },
      "execution_count": null,
      "outputs": [
        {
          "metadata": {
            "tags": null
          },
          "name": "stdout",
          "output_type": "stream",
          "text": [
            "Epoch 1/5\n",
            "--------------------\n",
            "train Loss: 0.6138 Acc: 0.8003\n"
          ]
        },
        {
          "metadata": {
            "tags": null
          },
          "name": "stderr",
          "output_type": "stream",
          "text": [
            "/usr/local/lib/python3.11/dist-packages/PIL/Image.py:1047: UserWarning: Palette images with Transparency expressed in bytes should be converted to RGBA images\n",
            "  warnings.warn(\n"
          ]
        },
        {
          "output_type": "stream",
          "name": "stdout",
          "text": [
            "val Loss: 0.5178 Acc: 0.8389\n",
            "Epoch 2/5\n",
            "--------------------\n",
            "train Loss: 0.3668 Acc: 0.8818\n",
            "val Loss: 1.7095 Acc: 0.6408\n",
            "Epoch 3/5\n",
            "--------------------\n",
            "train Loss: 0.3290 Acc: 0.8926\n",
            "val Loss: 0.4544 Acc: 0.8735\n",
            "Epoch 4/5\n",
            "--------------------\n"
          ]
        }
      ]
    },
    {
      "cell_type": "markdown",
      "source": [
        "Now, I am writing a function to test my model on the test set, reporting overall and per-class accuracy.\n"
      ],
      "metadata": {
        "id": "kyYfPUiahqYt"
      }
    },
    {
      "cell_type": "code",
      "source": [
        "def test_model(model):\n",
        "    correct, total = 0, 0\n",
        "    class_correct, class_total = [0]*num_classes, [0]*num_classes\n",
        "    with torch.no_grad():\n",
        "        for inputs, labels in dataloaders['test']:\n",
        "            inputs, labels = inputs.to(device), labels.to(device)\n",
        "            outputs = model(inputs)\n",
        "            _, preds = torch.max(outputs, 1)\n",
        "            correct += torch.sum(preds == labels.data)\n",
        "            total += labels.size(0)\n",
        "            for i, label in enumerate(labels):\n",
        "                class_correct[label] += (preds[i] == label).item()\n",
        "                class_total[label] += 1\n",
        "    print(f\"\\nTest Accuracy: {correct.double()/total:.4f}\\nPer-class accuracy:\")\n",
        "    for i, cname in enumerate(class_names):\n",
        "        print(f\"{cname}: {class_correct[i]/class_total[i]:.4f}\")\n",
        "\n",
        "test_model(model)"
      ],
      "metadata": {
        "id": "7y37k_NqX2dl"
      },
      "execution_count": null,
      "outputs": []
    },
    {
      "cell_type": "markdown",
      "source": [
        "# Predicting based on Model"
      ],
      "metadata": {
        "id": "CF6FzfXoD5_d"
      }
    },
    {
      "cell_type": "markdown",
      "source": [
        "Defining a function to predict the class of a single input image given its path."
      ],
      "metadata": {
        "id": "XyBUfu83iEgy"
      }
    },
    {
      "cell_type": "code",
      "source": [
        "def predict_image(img_path, model, class_names, transform):\n",
        "    model.eval()\n",
        "    image = Image.open(img_path).convert(\"RGB\")\n",
        "    input_tensor = transform(image).unsqueeze(0).to(device)\n",
        "    with torch.no_grad():\n",
        "        outputs = model(input_tensor)\n",
        "        _, pred = torch.max(outputs, 1)\n",
        "        predicted_class = class_names[pred.item()]\n",
        "    print(f\"Predicted Class: {predicted_class}\")"
      ],
      "metadata": {
        "id": "HZIaC3MBX6az"
      },
      "execution_count": null,
      "outputs": []
    },
    {
      "cell_type": "markdown",
      "source": [
        "Defining a helper function to display a numpy image, reversing normalization for visualization.\n",
        "\n",
        "Finally, visualizing one sample from each class in the test set along with model predictions."
      ],
      "metadata": {
        "id": "DKRAsnlqiTi-"
      }
    },
    {
      "cell_type": "code",
      "source": [
        "def imshow(inp, title=None):\n",
        "    inp = inp.numpy().transpose((1,2,0))\n",
        "    inp = np.clip(np.array(std)*inp + np.array(mean), 0, 1)\n",
        "    plt.imshow(inp)\n",
        "    if title: plt.title(title)\n",
        "    plt.axis('off')\n",
        "\n",
        "plt.figure(figsize=(15,10))\n",
        "num_cols, num_rows = 4, int(np.ceil(len(class_names)/4))\n",
        "test_dir = os.path.join(output_dir, 'test')\n",
        "for i, cname in enumerate(class_names):\n",
        "    img_path = os.path.join(test_dir, cname, os.listdir(os.path.join(test_dir, cname))[0])\n",
        "    image = datasets.folder.default_loader(img_path)\n",
        "    input_img = data_transforms['test'](image).unsqueeze(0).to(device)\n",
        "    with torch.no_grad():\n",
        "        outputs = model(input_img)\n",
        "        _, pred = torch.max(outputs, 1)\n",
        "    plt.subplot(num_rows, num_cols, i+1)\n",
        "    imshow(data_transforms['test'](image), f\"True: {cname}\\nPred: {class_names[pred.item()]}\")\n",
        "plt.tight_layout(); plt.show()"
      ],
      "metadata": {
        "id": "x3xbPyFtX-Ak"
      },
      "execution_count": null,
      "outputs": []
    },
    {
      "cell_type": "markdown",
      "source": [
        "Now, for predicting any random given image, enter the colab path for prediction."
      ],
      "metadata": {
        "id": "LW0sNyWskDr1"
      }
    },
    {
      "cell_type": "code",
      "source": [
        "image_path = input(\"Enter the path to the image: \")\n",
        "predict_image(image_path, model, class_names, data_transforms['test'])"
      ],
      "metadata": {
        "id": "HYnEYVSbkCG_",
        "colab": {
          "base_uri": "https://localhost:8080/",
          "height": 304
        },
        "outputId": "ac7f1ef3-dc89-4c63-e00e-a9ada3e0362d"
      },
      "execution_count": null,
      "outputs": [
        {
          "output_type": "error",
          "ename": "KeyboardInterrupt",
          "evalue": "Interrupted by user",
          "traceback": [
            "\u001b[0;31m---------------------------------------------------------------------------\u001b[0m",
            "\u001b[0;31mKeyboardInterrupt\u001b[0m                         Traceback (most recent call last)",
            "\u001b[0;32m/tmp/ipython-input-1179784936.py\u001b[0m in \u001b[0;36m<cell line: 0>\u001b[0;34m()\u001b[0m\n\u001b[0;32m----> 1\u001b[0;31m \u001b[0mimage_path\u001b[0m \u001b[0;34m=\u001b[0m \u001b[0minput\u001b[0m\u001b[0;34m(\u001b[0m\u001b[0;34m\"Enter the path to the image: \"\u001b[0m\u001b[0;34m)\u001b[0m\u001b[0;34m\u001b[0m\u001b[0;34m\u001b[0m\u001b[0m\n\u001b[0m\u001b[1;32m      2\u001b[0m \u001b[0mpredict_image\u001b[0m\u001b[0;34m(\u001b[0m\u001b[0mimage_path\u001b[0m\u001b[0;34m,\u001b[0m \u001b[0mmodel\u001b[0m\u001b[0;34m,\u001b[0m \u001b[0mclass_names\u001b[0m\u001b[0;34m,\u001b[0m \u001b[0mdata_transforms\u001b[0m\u001b[0;34m[\u001b[0m\u001b[0;34m'test'\u001b[0m\u001b[0;34m]\u001b[0m\u001b[0;34m)\u001b[0m\u001b[0;34m\u001b[0m\u001b[0;34m\u001b[0m\u001b[0m\n",
            "\u001b[0;32m/usr/local/lib/python3.11/dist-packages/ipykernel/kernelbase.py\u001b[0m in \u001b[0;36mraw_input\u001b[0;34m(self, prompt)\u001b[0m\n\u001b[1;32m   1175\u001b[0m                 \u001b[0;34m\"raw_input was called, but this frontend does not support input requests.\"\u001b[0m\u001b[0;34m\u001b[0m\u001b[0;34m\u001b[0m\u001b[0m\n\u001b[1;32m   1176\u001b[0m             )\n\u001b[0;32m-> 1177\u001b[0;31m         return self._input_request(\n\u001b[0m\u001b[1;32m   1178\u001b[0m             \u001b[0mstr\u001b[0m\u001b[0;34m(\u001b[0m\u001b[0mprompt\u001b[0m\u001b[0;34m)\u001b[0m\u001b[0;34m,\u001b[0m\u001b[0;34m\u001b[0m\u001b[0;34m\u001b[0m\u001b[0m\n\u001b[1;32m   1179\u001b[0m             \u001b[0mself\u001b[0m\u001b[0;34m.\u001b[0m\u001b[0m_parent_ident\u001b[0m\u001b[0;34m[\u001b[0m\u001b[0;34m\"shell\"\u001b[0m\u001b[0;34m]\u001b[0m\u001b[0;34m,\u001b[0m\u001b[0;34m\u001b[0m\u001b[0;34m\u001b[0m\u001b[0m\n",
            "\u001b[0;32m/usr/local/lib/python3.11/dist-packages/ipykernel/kernelbase.py\u001b[0m in \u001b[0;36m_input_request\u001b[0;34m(self, prompt, ident, parent, password)\u001b[0m\n\u001b[1;32m   1217\u001b[0m             \u001b[0;32mexcept\u001b[0m \u001b[0mKeyboardInterrupt\u001b[0m\u001b[0;34m:\u001b[0m\u001b[0;34m\u001b[0m\u001b[0;34m\u001b[0m\u001b[0m\n\u001b[1;32m   1218\u001b[0m                 \u001b[0;31m# re-raise KeyboardInterrupt, to truncate traceback\u001b[0m\u001b[0;34m\u001b[0m\u001b[0;34m\u001b[0m\u001b[0m\n\u001b[0;32m-> 1219\u001b[0;31m                 \u001b[0;32mraise\u001b[0m \u001b[0mKeyboardInterrupt\u001b[0m\u001b[0;34m(\u001b[0m\u001b[0;34m\"Interrupted by user\"\u001b[0m\u001b[0;34m)\u001b[0m \u001b[0;32mfrom\u001b[0m \u001b[0;32mNone\u001b[0m\u001b[0;34m\u001b[0m\u001b[0;34m\u001b[0m\u001b[0m\n\u001b[0m\u001b[1;32m   1220\u001b[0m             \u001b[0;32mexcept\u001b[0m \u001b[0mException\u001b[0m\u001b[0;34m:\u001b[0m\u001b[0;34m\u001b[0m\u001b[0;34m\u001b[0m\u001b[0m\n\u001b[1;32m   1221\u001b[0m                 \u001b[0mself\u001b[0m\u001b[0;34m.\u001b[0m\u001b[0mlog\u001b[0m\u001b[0;34m.\u001b[0m\u001b[0mwarning\u001b[0m\u001b[0;34m(\u001b[0m\u001b[0;34m\"Invalid Message:\"\u001b[0m\u001b[0;34m,\u001b[0m \u001b[0mexc_info\u001b[0m\u001b[0;34m=\u001b[0m\u001b[0;32mTrue\u001b[0m\u001b[0;34m)\u001b[0m\u001b[0;34m\u001b[0m\u001b[0;34m\u001b[0m\u001b[0m\n",
            "\u001b[0;31mKeyboardInterrupt\u001b[0m: Interrupted by user"
          ]
        }
      ]
    }
  ]
}